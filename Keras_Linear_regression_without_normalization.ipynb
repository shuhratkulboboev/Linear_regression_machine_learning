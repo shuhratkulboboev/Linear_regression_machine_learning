{
 "cells": [
  {
   "cell_type": "code",
   "execution_count": 15,
   "id": "b136e544",
   "metadata": {},
   "outputs": [],
   "source": [
    "## import necessary libraries\n",
    "import keras\n",
    "from keras.models import Sequential\n",
    "from keras.layers import Dense\n",
    "from sklearn.model_selection import train_test_split\n",
    "import pandas as pd\n",
    "import numpy as np\n",
    "from sklearn.preprocessing import StandardScaler\n"
   ]
  },
  {
   "cell_type": "code",
   "execution_count": 16,
   "id": "7a94da30",
   "metadata": {},
   "outputs": [
    {
     "name": "stdout",
     "output_type": "stream",
     "text": [
      "      Cement  Blast Furnace Slag  Fly Ash  Water  Superplasticizer  \\\n",
      "0      540.0                 0.0      0.0  162.0               2.5   \n",
      "1      540.0                 0.0      0.0  162.0               2.5   \n",
      "2      332.5               142.5      0.0  228.0               0.0   \n",
      "3      332.5               142.5      0.0  228.0               0.0   \n",
      "4      198.6               132.4      0.0  192.0               0.0   \n",
      "...      ...                 ...      ...    ...               ...   \n",
      "1025   276.4               116.0     90.3  179.6               8.9   \n",
      "1026   322.2                 0.0    115.6  196.0              10.4   \n",
      "1027   148.5               139.4    108.6  192.7               6.1   \n",
      "1028   159.1               186.7      0.0  175.6              11.3   \n",
      "1029   260.9               100.5     78.3  200.6               8.6   \n",
      "\n",
      "      Coarse Aggregate  Fine Aggregate  Age  Strength  \n",
      "0               1040.0           676.0   28     79.99  \n",
      "1               1055.0           676.0   28     61.89  \n",
      "2                932.0           594.0  270     40.27  \n",
      "3                932.0           594.0  365     41.05  \n",
      "4                978.4           825.5  360     44.30  \n",
      "...                ...             ...  ...       ...  \n",
      "1025             870.1           768.3   28     44.28  \n",
      "1026             817.9           813.4   28     31.18  \n",
      "1027             892.4           780.0   28     23.70  \n",
      "1028             989.6           788.9   28     32.77  \n",
      "1029             864.5           761.5   28     32.40  \n",
      "\n",
      "[1030 rows x 9 columns]\n"
     ]
    }
   ],
   "source": [
    "## Read a csv file using pandas library \n",
    "df=pd.read_csv(\"https://s3-api.us-geo.objectstorage.softlayer.net/cf-courses-data/CognitiveClass/DL0101EN/labs/data/concrete_data.csv\")\n",
    "print(df)"
   ]
  },
  {
   "cell_type": "code",
   "execution_count": 17,
   "id": "7c2c30ed",
   "metadata": {},
   "outputs": [
    {
     "data": {
      "text/plain": [
       "(1030, 9)"
      ]
     },
     "execution_count": 17,
     "metadata": {},
     "output_type": "execute_result"
    }
   ],
   "source": [
    "## Checking shape of data\n",
    "df.shape"
   ]
  },
  {
   "cell_type": "code",
   "execution_count": 18,
   "id": "44685724",
   "metadata": {},
   "outputs": [
    {
     "data": {
      "text/html": [
       "<div>\n",
       "<style scoped>\n",
       "    .dataframe tbody tr th:only-of-type {\n",
       "        vertical-align: middle;\n",
       "    }\n",
       "\n",
       "    .dataframe tbody tr th {\n",
       "        vertical-align: top;\n",
       "    }\n",
       "\n",
       "    .dataframe thead th {\n",
       "        text-align: right;\n",
       "    }\n",
       "</style>\n",
       "<table border=\"1\" class=\"dataframe\">\n",
       "  <thead>\n",
       "    <tr style=\"text-align: right;\">\n",
       "      <th></th>\n",
       "      <th>Cement</th>\n",
       "      <th>Blast Furnace Slag</th>\n",
       "      <th>Fly Ash</th>\n",
       "      <th>Water</th>\n",
       "      <th>Superplasticizer</th>\n",
       "      <th>Coarse Aggregate</th>\n",
       "      <th>Fine Aggregate</th>\n",
       "      <th>Age</th>\n",
       "      <th>Strength</th>\n",
       "    </tr>\n",
       "  </thead>\n",
       "  <tbody>\n",
       "    <tr>\n",
       "      <th>count</th>\n",
       "      <td>1030.000000</td>\n",
       "      <td>1030.000000</td>\n",
       "      <td>1030.000000</td>\n",
       "      <td>1030.000000</td>\n",
       "      <td>1030.000000</td>\n",
       "      <td>1030.000000</td>\n",
       "      <td>1030.000000</td>\n",
       "      <td>1030.000000</td>\n",
       "      <td>1030.000000</td>\n",
       "    </tr>\n",
       "    <tr>\n",
       "      <th>mean</th>\n",
       "      <td>281.167864</td>\n",
       "      <td>73.895825</td>\n",
       "      <td>54.188350</td>\n",
       "      <td>181.567282</td>\n",
       "      <td>6.204660</td>\n",
       "      <td>972.918932</td>\n",
       "      <td>773.580485</td>\n",
       "      <td>45.662136</td>\n",
       "      <td>35.817961</td>\n",
       "    </tr>\n",
       "    <tr>\n",
       "      <th>std</th>\n",
       "      <td>104.506364</td>\n",
       "      <td>86.279342</td>\n",
       "      <td>63.997004</td>\n",
       "      <td>21.354219</td>\n",
       "      <td>5.973841</td>\n",
       "      <td>77.753954</td>\n",
       "      <td>80.175980</td>\n",
       "      <td>63.169912</td>\n",
       "      <td>16.705742</td>\n",
       "    </tr>\n",
       "    <tr>\n",
       "      <th>min</th>\n",
       "      <td>102.000000</td>\n",
       "      <td>0.000000</td>\n",
       "      <td>0.000000</td>\n",
       "      <td>121.800000</td>\n",
       "      <td>0.000000</td>\n",
       "      <td>801.000000</td>\n",
       "      <td>594.000000</td>\n",
       "      <td>1.000000</td>\n",
       "      <td>2.330000</td>\n",
       "    </tr>\n",
       "    <tr>\n",
       "      <th>25%</th>\n",
       "      <td>192.375000</td>\n",
       "      <td>0.000000</td>\n",
       "      <td>0.000000</td>\n",
       "      <td>164.900000</td>\n",
       "      <td>0.000000</td>\n",
       "      <td>932.000000</td>\n",
       "      <td>730.950000</td>\n",
       "      <td>7.000000</td>\n",
       "      <td>23.710000</td>\n",
       "    </tr>\n",
       "    <tr>\n",
       "      <th>50%</th>\n",
       "      <td>272.900000</td>\n",
       "      <td>22.000000</td>\n",
       "      <td>0.000000</td>\n",
       "      <td>185.000000</td>\n",
       "      <td>6.400000</td>\n",
       "      <td>968.000000</td>\n",
       "      <td>779.500000</td>\n",
       "      <td>28.000000</td>\n",
       "      <td>34.445000</td>\n",
       "    </tr>\n",
       "    <tr>\n",
       "      <th>75%</th>\n",
       "      <td>350.000000</td>\n",
       "      <td>142.950000</td>\n",
       "      <td>118.300000</td>\n",
       "      <td>192.000000</td>\n",
       "      <td>10.200000</td>\n",
       "      <td>1029.400000</td>\n",
       "      <td>824.000000</td>\n",
       "      <td>56.000000</td>\n",
       "      <td>46.135000</td>\n",
       "    </tr>\n",
       "    <tr>\n",
       "      <th>max</th>\n",
       "      <td>540.000000</td>\n",
       "      <td>359.400000</td>\n",
       "      <td>200.100000</td>\n",
       "      <td>247.000000</td>\n",
       "      <td>32.200000</td>\n",
       "      <td>1145.000000</td>\n",
       "      <td>992.600000</td>\n",
       "      <td>365.000000</td>\n",
       "      <td>82.600000</td>\n",
       "    </tr>\n",
       "  </tbody>\n",
       "</table>\n",
       "</div>"
      ],
      "text/plain": [
       "            Cement  Blast Furnace Slag      Fly Ash        Water  \\\n",
       "count  1030.000000         1030.000000  1030.000000  1030.000000   \n",
       "mean    281.167864           73.895825    54.188350   181.567282   \n",
       "std     104.506364           86.279342    63.997004    21.354219   \n",
       "min     102.000000            0.000000     0.000000   121.800000   \n",
       "25%     192.375000            0.000000     0.000000   164.900000   \n",
       "50%     272.900000           22.000000     0.000000   185.000000   \n",
       "75%     350.000000          142.950000   118.300000   192.000000   \n",
       "max     540.000000          359.400000   200.100000   247.000000   \n",
       "\n",
       "       Superplasticizer  Coarse Aggregate  Fine Aggregate          Age  \\\n",
       "count       1030.000000       1030.000000     1030.000000  1030.000000   \n",
       "mean           6.204660        972.918932      773.580485    45.662136   \n",
       "std            5.973841         77.753954       80.175980    63.169912   \n",
       "min            0.000000        801.000000      594.000000     1.000000   \n",
       "25%            0.000000        932.000000      730.950000     7.000000   \n",
       "50%            6.400000        968.000000      779.500000    28.000000   \n",
       "75%           10.200000       1029.400000      824.000000    56.000000   \n",
       "max           32.200000       1145.000000      992.600000   365.000000   \n",
       "\n",
       "          Strength  \n",
       "count  1030.000000  \n",
       "mean     35.817961  \n",
       "std      16.705742  \n",
       "min       2.330000  \n",
       "25%      23.710000  \n",
       "50%      34.445000  \n",
       "75%      46.135000  \n",
       "max      82.600000  "
      ]
     },
     "execution_count": 18,
     "metadata": {},
     "output_type": "execute_result"
    }
   ],
   "source": [
    "#Checking th whole data using describe function\n",
    "df.describe()"
   ]
  },
  {
   "cell_type": "code",
   "execution_count": 19,
   "id": "263422a6",
   "metadata": {},
   "outputs": [
    {
     "data": {
      "text/plain": [
       "Cement                0\n",
       "Blast Furnace Slag    0\n",
       "Fly Ash               0\n",
       "Water                 0\n",
       "Superplasticizer      0\n",
       "Coarse Aggregate      0\n",
       "Fine Aggregate        0\n",
       "Age                   0\n",
       "Strength              0\n",
       "dtype: int64"
      ]
     },
     "execution_count": 19,
     "metadata": {},
     "output_type": "execute_result"
    }
   ],
   "source": [
    "# Observing that missing values are available or not\n",
    "df.isnull().sum()"
   ]
  },
  {
   "cell_type": "code",
   "execution_count": 20,
   "id": "f285ca02",
   "metadata": {},
   "outputs": [],
   "source": [
    "##Split data into X and y\n",
    "df_col=df.columns\n",
    "X=df[df_col[df_col!=\"Strength\"]]\n",
    "y=df[\"Strength\"]"
   ]
  },
  {
   "cell_type": "code",
   "execution_count": 21,
   "id": "3327d765",
   "metadata": {},
   "outputs": [
    {
     "data": {
      "text/html": [
       "<div>\n",
       "<style scoped>\n",
       "    .dataframe tbody tr th:only-of-type {\n",
       "        vertical-align: middle;\n",
       "    }\n",
       "\n",
       "    .dataframe tbody tr th {\n",
       "        vertical-align: top;\n",
       "    }\n",
       "\n",
       "    .dataframe thead th {\n",
       "        text-align: right;\n",
       "    }\n",
       "</style>\n",
       "<table border=\"1\" class=\"dataframe\">\n",
       "  <thead>\n",
       "    <tr style=\"text-align: right;\">\n",
       "      <th></th>\n",
       "      <th>Cement</th>\n",
       "      <th>Blast Furnace Slag</th>\n",
       "      <th>Fly Ash</th>\n",
       "      <th>Water</th>\n",
       "      <th>Superplasticizer</th>\n",
       "      <th>Coarse Aggregate</th>\n",
       "      <th>Fine Aggregate</th>\n",
       "      <th>Age</th>\n",
       "    </tr>\n",
       "  </thead>\n",
       "  <tbody>\n",
       "    <tr>\n",
       "      <th>1025</th>\n",
       "      <td>276.4</td>\n",
       "      <td>116.0</td>\n",
       "      <td>90.3</td>\n",
       "      <td>179.6</td>\n",
       "      <td>8.9</td>\n",
       "      <td>870.1</td>\n",
       "      <td>768.3</td>\n",
       "      <td>28</td>\n",
       "    </tr>\n",
       "    <tr>\n",
       "      <th>1026</th>\n",
       "      <td>322.2</td>\n",
       "      <td>0.0</td>\n",
       "      <td>115.6</td>\n",
       "      <td>196.0</td>\n",
       "      <td>10.4</td>\n",
       "      <td>817.9</td>\n",
       "      <td>813.4</td>\n",
       "      <td>28</td>\n",
       "    </tr>\n",
       "    <tr>\n",
       "      <th>1027</th>\n",
       "      <td>148.5</td>\n",
       "      <td>139.4</td>\n",
       "      <td>108.6</td>\n",
       "      <td>192.7</td>\n",
       "      <td>6.1</td>\n",
       "      <td>892.4</td>\n",
       "      <td>780.0</td>\n",
       "      <td>28</td>\n",
       "    </tr>\n",
       "    <tr>\n",
       "      <th>1028</th>\n",
       "      <td>159.1</td>\n",
       "      <td>186.7</td>\n",
       "      <td>0.0</td>\n",
       "      <td>175.6</td>\n",
       "      <td>11.3</td>\n",
       "      <td>989.6</td>\n",
       "      <td>788.9</td>\n",
       "      <td>28</td>\n",
       "    </tr>\n",
       "    <tr>\n",
       "      <th>1029</th>\n",
       "      <td>260.9</td>\n",
       "      <td>100.5</td>\n",
       "      <td>78.3</td>\n",
       "      <td>200.6</td>\n",
       "      <td>8.6</td>\n",
       "      <td>864.5</td>\n",
       "      <td>761.5</td>\n",
       "      <td>28</td>\n",
       "    </tr>\n",
       "  </tbody>\n",
       "</table>\n",
       "</div>"
      ],
      "text/plain": [
       "      Cement  Blast Furnace Slag  Fly Ash  Water  Superplasticizer  \\\n",
       "1025   276.4               116.0     90.3  179.6               8.9   \n",
       "1026   322.2                 0.0    115.6  196.0              10.4   \n",
       "1027   148.5               139.4    108.6  192.7               6.1   \n",
       "1028   159.1               186.7      0.0  175.6              11.3   \n",
       "1029   260.9               100.5     78.3  200.6               8.6   \n",
       "\n",
       "      Coarse Aggregate  Fine Aggregate  Age  \n",
       "1025             870.1           768.3   28  \n",
       "1026             817.9           813.4   28  \n",
       "1027             892.4           780.0   28  \n",
       "1028             989.6           788.9   28  \n",
       "1029             864.5           761.5   28  "
      ]
     },
     "execution_count": 21,
     "metadata": {},
     "output_type": "execute_result"
    }
   ],
   "source": [
    "X.tail()"
   ]
  },
  {
   "cell_type": "code",
   "execution_count": 22,
   "id": "600f1022",
   "metadata": {},
   "outputs": [
    {
     "data": {
      "text/plain": [
       "1025    44.28\n",
       "1026    31.18\n",
       "1027    23.70\n",
       "1028    32.77\n",
       "1029    32.40\n",
       "Name: Strength, dtype: float64"
      ]
     },
     "execution_count": 22,
     "metadata": {},
     "output_type": "execute_result"
    }
   ],
   "source": [
    "y.tail()"
   ]
  },
  {
   "cell_type": "code",
   "execution_count": 103,
   "id": "f047aec9",
   "metadata": {},
   "outputs": [
    {
     "data": {
      "text/html": [
       "<div>\n",
       "<style scoped>\n",
       "    .dataframe tbody tr th:only-of-type {\n",
       "        vertical-align: middle;\n",
       "    }\n",
       "\n",
       "    .dataframe tbody tr th {\n",
       "        vertical-align: top;\n",
       "    }\n",
       "\n",
       "    .dataframe thead th {\n",
       "        text-align: right;\n",
       "    }\n",
       "</style>\n",
       "<table border=\"1\" class=\"dataframe\">\n",
       "  <thead>\n",
       "    <tr style=\"text-align: right;\">\n",
       "      <th></th>\n",
       "      <th>Cement</th>\n",
       "      <th>Blast Furnace Slag</th>\n",
       "      <th>Fly Ash</th>\n",
       "      <th>Water</th>\n",
       "      <th>Superplasticizer</th>\n",
       "      <th>Coarse Aggregate</th>\n",
       "      <th>Fine Aggregate</th>\n",
       "      <th>Age</th>\n",
       "    </tr>\n",
       "  </thead>\n",
       "  <tbody>\n",
       "    <tr>\n",
       "      <th>1025</th>\n",
       "      <td>276.4</td>\n",
       "      <td>116.0</td>\n",
       "      <td>90.3</td>\n",
       "      <td>179.6</td>\n",
       "      <td>8.9</td>\n",
       "      <td>870.1</td>\n",
       "      <td>768.3</td>\n",
       "      <td>28</td>\n",
       "    </tr>\n",
       "    <tr>\n",
       "      <th>1026</th>\n",
       "      <td>322.2</td>\n",
       "      <td>0.0</td>\n",
       "      <td>115.6</td>\n",
       "      <td>196.0</td>\n",
       "      <td>10.4</td>\n",
       "      <td>817.9</td>\n",
       "      <td>813.4</td>\n",
       "      <td>28</td>\n",
       "    </tr>\n",
       "    <tr>\n",
       "      <th>1027</th>\n",
       "      <td>148.5</td>\n",
       "      <td>139.4</td>\n",
       "      <td>108.6</td>\n",
       "      <td>192.7</td>\n",
       "      <td>6.1</td>\n",
       "      <td>892.4</td>\n",
       "      <td>780.0</td>\n",
       "      <td>28</td>\n",
       "    </tr>\n",
       "    <tr>\n",
       "      <th>1028</th>\n",
       "      <td>159.1</td>\n",
       "      <td>186.7</td>\n",
       "      <td>0.0</td>\n",
       "      <td>175.6</td>\n",
       "      <td>11.3</td>\n",
       "      <td>989.6</td>\n",
       "      <td>788.9</td>\n",
       "      <td>28</td>\n",
       "    </tr>\n",
       "    <tr>\n",
       "      <th>1029</th>\n",
       "      <td>260.9</td>\n",
       "      <td>100.5</td>\n",
       "      <td>78.3</td>\n",
       "      <td>200.6</td>\n",
       "      <td>8.6</td>\n",
       "      <td>864.5</td>\n",
       "      <td>761.5</td>\n",
       "      <td>28</td>\n",
       "    </tr>\n",
       "  </tbody>\n",
       "</table>\n",
       "</div>"
      ],
      "text/plain": [
       "      Cement  Blast Furnace Slag  Fly Ash  Water  Superplasticizer  \\\n",
       "1025   276.4               116.0     90.3  179.6               8.9   \n",
       "1026   322.2                 0.0    115.6  196.0              10.4   \n",
       "1027   148.5               139.4    108.6  192.7               6.1   \n",
       "1028   159.1               186.7      0.0  175.6              11.3   \n",
       "1029   260.9               100.5     78.3  200.6               8.6   \n",
       "\n",
       "      Coarse Aggregate  Fine Aggregate  Age  \n",
       "1025             870.1           768.3   28  \n",
       "1026             817.9           813.4   28  \n",
       "1027             892.4           780.0   28  \n",
       "1028             989.6           788.9   28  \n",
       "1029             864.5           761.5   28  "
      ]
     },
     "execution_count": 103,
     "metadata": {},
     "output_type": "execute_result"
    }
   ],
   "source": [
    "X.tail()"
   ]
  },
  {
   "cell_type": "code",
   "execution_count": 104,
   "id": "b341b689",
   "metadata": {},
   "outputs": [],
   "source": [
    "## Split data into test and t rain set\n",
    "X_train,X_test,y_train,y_test = train_test_split(X,y,test_size=0.3,random_state=None)"
   ]
  },
  {
   "cell_type": "code",
   "execution_count": 105,
   "id": "b1539576",
   "metadata": {},
   "outputs": [
    {
     "data": {
      "text/plain": [
       "(309, 8)"
      ]
     },
     "execution_count": 105,
     "metadata": {},
     "output_type": "execute_result"
    }
   ],
   "source": [
    "X_test.shape"
   ]
  },
  {
   "cell_type": "code",
   "execution_count": 106,
   "id": "de9013af",
   "metadata": {},
   "outputs": [
    {
     "data": {
      "text/plain": [
       "(721,)"
      ]
     },
     "execution_count": 106,
     "metadata": {},
     "output_type": "execute_result"
    }
   ],
   "source": [
    "y_train.shape"
   ]
  },
  {
   "cell_type": "code",
   "execution_count": 54,
   "id": "e8811e03",
   "metadata": {},
   "outputs": [],
   "source": []
  },
  {
   "cell_type": "code",
   "execution_count": null,
   "id": "02f630e4",
   "metadata": {},
   "outputs": [],
   "source": []
  },
  {
   "cell_type": "code",
   "execution_count": 107,
   "id": "450c3382",
   "metadata": {},
   "outputs": [],
   "source": [
    "n_col=X_norm.shape[1]"
   ]
  },
  {
   "cell_type": "code",
   "execution_count": 108,
   "id": "73dcffa1",
   "metadata": {},
   "outputs": [
    {
     "data": {
      "text/plain": [
       "8"
      ]
     },
     "execution_count": 108,
     "metadata": {},
     "output_type": "execute_result"
    }
   ],
   "source": [
    "n_col\n"
   ]
  },
  {
   "cell_type": "code",
   "execution_count": 112,
   "id": "304c1f49",
   "metadata": {},
   "outputs": [],
   "source": [
    "##Model creation function\n",
    "def regression_model():\n",
    "    # create model\n",
    "    model = Sequential()\n",
    "    model.add(Dense(50, activation='relu', input_shape=(n_col,)))\n",
    "    model.add(Dense(50, activation='relu'))\n",
    "    model.add(Dense(1))\n",
    "    \n",
    "    model.compile(optimizer='adam',loss='mean_squared_error',metrics = ['mse', 'mae'])\n",
    "    return model\n",
    "              "
   ]
  },
  {
   "cell_type": "code",
   "execution_count": 113,
   "id": "7f92b77e",
   "metadata": {},
   "outputs": [],
   "source": [
    "# build the model\n",
    "model = regression_model()"
   ]
  },
  {
   "cell_type": "code",
   "execution_count": 115,
   "id": "4a6fa13c",
   "metadata": {},
   "outputs": [
    {
     "name": "stdout",
     "output_type": "stream",
     "text": [
      "Epoch 1/50\n",
      "16/16 - 0s - loss: 67.6153 - mse: 67.6153 - mae: 6.3913 - val_loss: 85.4202 - val_mse: 85.4202 - val_mae: 7.4788 - 194ms/epoch - 12ms/step\n",
      "Epoch 2/50\n",
      "16/16 - 0s - loss: 76.3241 - mse: 76.3241 - mae: 7.0414 - val_loss: 71.7765 - val_mse: 71.7765 - val_mae: 6.5353 - 104ms/epoch - 7ms/step\n",
      "Epoch 3/50\n",
      "16/16 - 0s - loss: 69.0500 - mse: 69.0500 - mae: 6.3614 - val_loss: 73.5915 - val_mse: 73.5915 - val_mae: 6.4242 - 105ms/epoch - 7ms/step\n",
      "Epoch 4/50\n",
      "16/16 - 0s - loss: 64.0474 - mse: 64.0474 - mae: 6.2539 - val_loss: 68.6042 - val_mse: 68.6042 - val_mae: 6.4063 - 93ms/epoch - 6ms/step\n",
      "Epoch 5/50\n",
      "16/16 - 0s - loss: 62.3392 - mse: 62.3392 - mae: 6.1239 - val_loss: 72.6873 - val_mse: 72.6873 - val_mae: 6.8018 - 106ms/epoch - 7ms/step\n",
      "Epoch 6/50\n",
      "16/16 - 0s - loss: 65.2691 - mse: 65.2691 - mae: 6.3375 - val_loss: 66.9674 - val_mse: 66.9674 - val_mae: 6.2729 - 108ms/epoch - 7ms/step\n",
      "Epoch 7/50\n",
      "16/16 - 0s - loss: 66.6576 - mse: 66.6576 - mae: 6.4070 - val_loss: 64.9505 - val_mse: 64.9505 - val_mae: 6.1078 - 117ms/epoch - 7ms/step\n",
      "Epoch 8/50\n",
      "16/16 - 0s - loss: 59.7565 - mse: 59.7565 - mae: 5.9890 - val_loss: 66.2184 - val_mse: 66.2184 - val_mae: 6.2273 - 119ms/epoch - 7ms/step\n",
      "Epoch 9/50\n",
      "16/16 - 0s - loss: 59.9342 - mse: 59.9342 - mae: 5.9903 - val_loss: 69.9276 - val_mse: 69.9276 - val_mae: 6.5655 - 109ms/epoch - 7ms/step\n",
      "Epoch 10/50\n",
      "16/16 - 0s - loss: 61.1564 - mse: 61.1564 - mae: 6.0918 - val_loss: 64.9354 - val_mse: 64.9354 - val_mae: 6.1961 - 119ms/epoch - 7ms/step\n",
      "Epoch 11/50\n",
      "16/16 - 0s - loss: 62.8672 - mse: 62.8672 - mae: 6.1257 - val_loss: 63.7419 - val_mse: 63.7419 - val_mae: 5.9826 - 114ms/epoch - 7ms/step\n",
      "Epoch 12/50\n",
      "16/16 - 0s - loss: 59.5134 - mse: 59.5134 - mae: 6.0017 - val_loss: 67.9500 - val_mse: 67.9500 - val_mae: 6.3774 - 101ms/epoch - 6ms/step\n",
      "Epoch 13/50\n",
      "16/16 - 0s - loss: 57.1947 - mse: 57.1947 - mae: 5.8703 - val_loss: 66.7671 - val_mse: 66.7671 - val_mae: 6.3304 - 118ms/epoch - 7ms/step\n",
      "Epoch 14/50\n",
      "16/16 - 0s - loss: 56.7962 - mse: 56.7962 - mae: 5.9155 - val_loss: 61.2550 - val_mse: 61.2550 - val_mae: 5.8836 - 119ms/epoch - 7ms/step\n",
      "Epoch 15/50\n",
      "16/16 - 0s - loss: 56.4455 - mse: 56.4455 - mae: 5.7855 - val_loss: 62.3613 - val_mse: 62.3613 - val_mae: 5.9211 - 111ms/epoch - 7ms/step\n",
      "Epoch 16/50\n",
      "16/16 - 0s - loss: 57.1404 - mse: 57.1404 - mae: 5.8582 - val_loss: 64.0236 - val_mse: 64.0236 - val_mae: 6.0581 - 113ms/epoch - 7ms/step\n",
      "Epoch 17/50\n",
      "16/16 - 0s - loss: 55.0591 - mse: 55.0591 - mae: 5.7369 - val_loss: 59.1111 - val_mse: 59.1111 - val_mae: 5.6932 - 111ms/epoch - 7ms/step\n",
      "Epoch 18/50\n",
      "16/16 - 0s - loss: 55.2684 - mse: 55.2684 - mae: 5.7477 - val_loss: 64.7924 - val_mse: 64.7924 - val_mae: 6.1973 - 107ms/epoch - 7ms/step\n",
      "Epoch 19/50\n",
      "16/16 - 0s - loss: 59.1618 - mse: 59.1618 - mae: 5.9400 - val_loss: 70.8433 - val_mse: 70.8433 - val_mae: 6.2849 - 107ms/epoch - 7ms/step\n",
      "Epoch 20/50\n",
      "16/16 - 0s - loss: 58.7137 - mse: 58.7137 - mae: 5.8900 - val_loss: 71.4036 - val_mse: 71.4036 - val_mae: 6.7834 - 101ms/epoch - 6ms/step\n",
      "Epoch 21/50\n",
      "16/16 - 0s - loss: 59.4115 - mse: 59.4115 - mae: 6.0668 - val_loss: 64.8429 - val_mse: 64.8429 - val_mae: 6.1132 - 120ms/epoch - 7ms/step\n",
      "Epoch 22/50\n",
      "16/16 - 0s - loss: 56.9957 - mse: 56.9957 - mae: 5.9115 - val_loss: 75.9400 - val_mse: 75.9400 - val_mae: 7.0619 - 129ms/epoch - 8ms/step\n",
      "Epoch 23/50\n",
      "16/16 - 0s - loss: 58.2085 - mse: 58.2085 - mae: 5.9767 - val_loss: 61.1473 - val_mse: 61.1473 - val_mae: 5.7312 - 114ms/epoch - 7ms/step\n",
      "Epoch 24/50\n",
      "16/16 - 0s - loss: 54.3150 - mse: 54.3150 - mae: 5.7160 - val_loss: 62.0543 - val_mse: 62.0543 - val_mae: 5.8853 - 117ms/epoch - 7ms/step\n",
      "Epoch 25/50\n",
      "16/16 - 0s - loss: 55.3625 - mse: 55.3625 - mae: 5.7675 - val_loss: 61.6053 - val_mse: 61.6053 - val_mae: 5.9304 - 122ms/epoch - 8ms/step\n",
      "Epoch 26/50\n",
      "16/16 - 0s - loss: 55.4567 - mse: 55.4567 - mae: 5.7641 - val_loss: 61.4584 - val_mse: 61.4584 - val_mae: 5.7822 - 129ms/epoch - 8ms/step\n",
      "Epoch 27/50\n",
      "16/16 - 0s - loss: 53.2593 - mse: 53.2593 - mae: 5.7816 - val_loss: 64.1017 - val_mse: 64.1017 - val_mae: 6.2689 - 115ms/epoch - 7ms/step\n",
      "Epoch 28/50\n",
      "16/16 - 0s - loss: 57.6885 - mse: 57.6885 - mae: 5.9257 - val_loss: 58.7237 - val_mse: 58.7237 - val_mae: 5.6625 - 107ms/epoch - 7ms/step\n",
      "Epoch 29/50\n",
      "16/16 - 0s - loss: 56.6842 - mse: 56.6842 - mae: 5.8483 - val_loss: 62.1585 - val_mse: 62.1585 - val_mae: 5.7887 - 111ms/epoch - 7ms/step\n",
      "Epoch 30/50\n",
      "16/16 - 0s - loss: 56.2523 - mse: 56.2523 - mae: 5.9232 - val_loss: 63.2410 - val_mse: 63.2410 - val_mae: 6.2469 - 115ms/epoch - 7ms/step\n",
      "Epoch 31/50\n",
      "16/16 - 0s - loss: 50.4158 - mse: 50.4158 - mae: 5.3831 - val_loss: 60.9300 - val_mse: 60.9300 - val_mae: 5.9218 - 111ms/epoch - 7ms/step\n",
      "Epoch 32/50\n",
      "16/16 - 0s - loss: 49.7036 - mse: 49.7036 - mae: 5.4757 - val_loss: 60.7219 - val_mse: 60.7219 - val_mae: 5.9978 - 100ms/epoch - 6ms/step\n",
      "Epoch 33/50\n",
      "16/16 - 0s - loss: 52.0070 - mse: 52.0070 - mae: 5.5846 - val_loss: 65.5851 - val_mse: 65.5851 - val_mae: 5.9127 - 108ms/epoch - 7ms/step\n",
      "Epoch 34/50\n",
      "16/16 - 0s - loss: 53.0416 - mse: 53.0416 - mae: 5.6370 - val_loss: 56.7079 - val_mse: 56.7079 - val_mae: 5.5572 - 105ms/epoch - 7ms/step\n",
      "Epoch 35/50\n",
      "16/16 - 0s - loss: 49.1932 - mse: 49.1932 - mae: 5.3786 - val_loss: 58.8984 - val_mse: 58.8984 - val_mae: 5.6795 - 116ms/epoch - 7ms/step\n",
      "Epoch 36/50\n",
      "16/16 - 0s - loss: 48.8038 - mse: 48.8038 - mae: 5.3245 - val_loss: 58.6727 - val_mse: 58.6727 - val_mae: 5.6757 - 132ms/epoch - 8ms/step\n",
      "Epoch 37/50\n",
      "16/16 - 0s - loss: 50.7893 - mse: 50.7893 - mae: 5.4908 - val_loss: 54.4132 - val_mse: 54.4132 - val_mae: 5.4350 - 128ms/epoch - 8ms/step\n",
      "Epoch 38/50\n",
      "16/16 - 0s - loss: 49.9643 - mse: 49.9643 - mae: 5.4699 - val_loss: 58.0467 - val_mse: 58.0467 - val_mae: 5.6143 - 108ms/epoch - 7ms/step\n",
      "Epoch 39/50\n",
      "16/16 - 0s - loss: 50.0080 - mse: 50.0080 - mae: 5.4766 - val_loss: 64.0388 - val_mse: 64.0388 - val_mae: 5.9034 - 107ms/epoch - 7ms/step\n",
      "Epoch 40/50\n",
      "16/16 - 0s - loss: 50.9156 - mse: 50.9156 - mae: 5.5288 - val_loss: 54.9619 - val_mse: 54.9619 - val_mae: 5.5634 - 113ms/epoch - 7ms/step\n",
      "Epoch 41/50\n",
      "16/16 - 0s - loss: 49.4143 - mse: 49.4143 - mae: 5.4416 - val_loss: 56.6886 - val_mse: 56.6886 - val_mae: 5.6122 - 101ms/epoch - 6ms/step\n",
      "Epoch 42/50\n",
      "16/16 - 0s - loss: 46.7575 - mse: 46.7575 - mae: 5.2622 - val_loss: 56.6164 - val_mse: 56.6164 - val_mae: 5.8183 - 127ms/epoch - 8ms/step\n",
      "Epoch 43/50\n",
      "16/16 - 0s - loss: 46.9887 - mse: 46.9887 - mae: 5.2482 - val_loss: 56.4082 - val_mse: 56.4082 - val_mae: 5.7740 - 112ms/epoch - 7ms/step\n",
      "Epoch 44/50\n",
      "16/16 - 0s - loss: 45.6930 - mse: 45.6930 - mae: 5.2001 - val_loss: 54.1142 - val_mse: 54.1142 - val_mae: 5.6444 - 114ms/epoch - 7ms/step\n",
      "Epoch 45/50\n",
      "16/16 - 0s - loss: 46.9998 - mse: 46.9998 - mae: 5.2602 - val_loss: 54.6307 - val_mse: 54.6307 - val_mae: 5.4371 - 117ms/epoch - 7ms/step\n",
      "Epoch 46/50\n",
      "16/16 - 0s - loss: 47.3367 - mse: 47.3367 - mae: 5.3270 - val_loss: 59.5127 - val_mse: 59.5127 - val_mae: 5.7183 - 107ms/epoch - 7ms/step\n",
      "Epoch 47/50\n",
      "16/16 - 0s - loss: 45.0084 - mse: 45.0084 - mae: 5.1165 - val_loss: 53.0873 - val_mse: 53.0873 - val_mae: 5.5168 - 107ms/epoch - 7ms/step\n",
      "Epoch 48/50\n",
      "16/16 - 0s - loss: 44.3288 - mse: 44.3288 - mae: 5.1448 - val_loss: 52.3853 - val_mse: 52.3853 - val_mae: 5.5098 - 112ms/epoch - 7ms/step\n",
      "Epoch 49/50\n",
      "16/16 - 0s - loss: 43.1632 - mse: 43.1632 - mae: 5.0024 - val_loss: 65.1619 - val_mse: 65.1619 - val_mae: 6.4830 - 108ms/epoch - 7ms/step\n",
      "Epoch 50/50\n",
      "16/16 - 0s - loss: 50.2266 - mse: 50.2266 - mae: 5.4623 - val_loss: 69.5383 - val_mse: 69.5383 - val_mae: 6.8659 - 104ms/epoch - 7ms/step\n"
     ]
    }
   ],
   "source": [
    "history=model.fit(X_train,y_train,epochs=50,verbose=2,validation_split=0.3)"
   ]
  },
  {
   "cell_type": "code",
   "execution_count": 116,
   "id": "449b5658",
   "metadata": {},
   "outputs": [
    {
     "data": {
      "text/plain": [
       "<matplotlib.legend.Legend at 0x22f808b4070>"
      ]
     },
     "execution_count": 116,
     "metadata": {},
     "output_type": "execute_result"
    },
    {
     "data": {
      "image/png": "[encoded data removed]",
      "text/plain": [
       "<Figure size 640x480 with 1 Axes>"
      ]
     },
     "metadata": {},
     "output_type": "display_data"
    }
   ],
   "source": [
    "import matplotlib.pyplot as plt\n",
    "plt.plot(history.history['mae'], label='mae')\n",
    "plt.plot(history.history['val_mae'], label='val_mae')\n",
    "\n",
    "plt.legend()"
   ]
  },
  {
   "cell_type": "code",
   "execution_count": 117,
   "id": "f4b46899",
   "metadata": {},
   "outputs": [
    {
     "name": "stdout",
     "output_type": "stream",
     "text": [
      "Mean Squared Error :  59.2436408996582\n",
      "Mean Absolute Error :  6.3095269203186035\n"
     ]
    }
   ],
   "source": [
    "scores = model.evaluate(X_test, y_test, verbose = 0)\n",
    "\n",
    "print('Mean Squared Error : ', scores[1])\n",
    "print('Mean Absolute Error : ', scores[2])\n"
   ]
  },
  {
   "cell_type": "code",
   "execution_count": 118,
   "id": "6357644b",
   "metadata": {},
   "outputs": [
    {
     "name": "stdout",
     "output_type": "stream",
     "text": [
      "10/10 [==============================] - 0s 2ms/step\n"
     ]
    }
   ],
   "source": [
    "y_pred=model.predict(X_test)"
   ]
  },
  {
   "cell_type": "code",
   "execution_count": 119,
   "id": "c1342a4b",
   "metadata": {},
   "outputs": [
    {
     "name": "stdout",
     "output_type": "stream",
     "text": [
      "r2 score:  0.7869942799057978\n"
     ]
    }
   ],
   "source": [
    "from sklearn.metrics import r2_score\n",
    "\n",
    "print('r2 score: ', r2_score(y_test, y_pred))"
   ]
  },
  {
   "cell_type": "code",
   "execution_count": 128,
   "id": "2b8d7b08",
   "metadata": {},
   "outputs": [
    {
     "name": "stdout",
     "output_type": "stream",
     "text": [
      "10/10 [==============================] - 0s 3ms/step\n"
     ]
    },
    {
     "data": {
      "text/plain": [
       "[]"
      ]
     },
     "execution_count": 128,
     "metadata": {},
     "output_type": "execute_result"
    },
    {
     "data": {
      "image/png": "[encoded data removed]",
      "text/plain": [
       "<Figure size 640x480 with 1 Axes>"
      ]
     },
     "metadata": {},
     "output_type": "display_data"
    }
   ],
   "source": [
    "Y_pred = model.predict(X_test).flatten()\n",
    "\n",
    "a = plt.axes(aspect='equal')\n",
    "plt.scatter(y_test, y_pred)\n",
    "plt.xlabel('True values')\n",
    "plt.ylabel('Predicted values')\n",
    "plt.xlim([0, 100])\n",
    "plt.ylim([0, 100])\n",
    "plt.plot([0, 100], [0, 100])\n",
    "plt.plot()\n"
   ]
  },
  {
   "cell_type": "code",
   "execution_count": 90,
   "id": "a20eb4b4",
   "metadata": {},
   "outputs": [
    {
     "data": {
      "text/plain": [
       "125319488.18876392"
      ]
     },
     "execution_count": 90,
     "metadata": {},
     "output_type": "execute_result"
    }
   ],
   "source": []
  },
  {
   "cell_type": "code",
   "execution_count": null,
   "id": "bf8044e2",
   "metadata": {},
   "outputs": [],
   "source": []
  },
  {
   "cell_type": "code",
   "execution_count": null,
   "id": "1e2ba85d",
   "metadata": {},
   "outputs": [],
   "source": []
  }
 ],
 "metadata": {
  "kernelspec": {
   "display_name": "Python 3 (ipykernel)",
   "language": "python",
   "name": "python3"
  },
  "language_info": {
   "codemirror_mode": {
    "name": "ipython",
    "version": 3
   },
   "file_extension": ".py",
   "mimetype": "text/x-python",
   "name": "python",
   "nbconvert_exporter": "python",
   "pygments_lexer": "ipython3",
   "version": "3.9.12"
  }
 },
 "nbformat": 4,
 "nbformat_minor": 5
}
