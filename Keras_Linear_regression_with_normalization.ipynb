{
 "cells": [
  {
   "cell_type": "code",
   "execution_count": 15,
   "id": "f92f1137",
   "metadata": {},
   "outputs": [],
   "source": [
    "## import necessary libraries\n",
    "import keras\n",
    "from keras.models import Sequential\n",
    "from keras.layers import Dense\n",
    "from sklearn.model_selection import train_test_split\n",
    "import pandas as pd\n",
    "import numpy as np\n",
    "from sklearn.preprocessing import StandardScaler\n"
   ]
  },
  {
   "cell_type": "code",
   "execution_count": 16,
   "id": "56e7ea1b",
   "metadata": {},
   "outputs": [
    {
     "name": "stdout",
     "output_type": "stream",
     "text": [
      "      Cement  Blast Furnace Slag  Fly Ash  Water  Superplasticizer  \\\n",
      "0      540.0                 0.0      0.0  162.0               2.5   \n",
      "1      540.0                 0.0      0.0  162.0               2.5   \n",
      "2      332.5               142.5      0.0  228.0               0.0   \n",
      "3      332.5               142.5      0.0  228.0               0.0   \n",
      "4      198.6               132.4      0.0  192.0               0.0   \n",
      "...      ...                 ...      ...    ...               ...   \n",
      "1025   276.4               116.0     90.3  179.6               8.9   \n",
      "1026   322.2                 0.0    115.6  196.0              10.4   \n",
      "1027   148.5               139.4    108.6  192.7               6.1   \n",
      "1028   159.1               186.7      0.0  175.6              11.3   \n",
      "1029   260.9               100.5     78.3  200.6               8.6   \n",
      "\n",
      "      Coarse Aggregate  Fine Aggregate  Age  Strength  \n",
      "0               1040.0           676.0   28     79.99  \n",
      "1               1055.0           676.0   28     61.89  \n",
      "2                932.0           594.0  270     40.27  \n",
      "3                932.0           594.0  365     41.05  \n",
      "4                978.4           825.5  360     44.30  \n",
      "...                ...             ...  ...       ...  \n",
      "1025             870.1           768.3   28     44.28  \n",
      "1026             817.9           813.4   28     31.18  \n",
      "1027             892.4           780.0   28     23.70  \n",
      "1028             989.6           788.9   28     32.77  \n",
      "1029             864.5           761.5   28     32.40  \n",
      "\n",
      "[1030 rows x 9 columns]\n"
     ]
    }
   ],
   "source": [
    "## Read a csv file using pandas library \n",
    "df=pd.read_csv(\"https://s3-api.us-geo.objectstorage.softlayer.net/cf-courses-data/CognitiveClass/DL0101EN/labs/data/concrete_data.csv\")\n",
    "print(df)"
   ]
  },
  {
   "cell_type": "code",
   "execution_count": 17,
   "id": "d9c2a924",
   "metadata": {},
   "outputs": [
    {
     "data": {
      "text/plain": [
       "(1030, 9)"
      ]
     },
     "execution_count": 17,
     "metadata": {},
     "output_type": "execute_result"
    }
   ],
   "source": [
    "## Checking shape of data\n",
    "df.shape"
   ]
  },
  {
   "cell_type": "code",
   "execution_count": 18,
   "id": "d158fa23",
   "metadata": {},
   "outputs": [
    {
     "data": {
      "text/html": [
       "<div>\n",
       "<style scoped>\n",
       "    .dataframe tbody tr th:only-of-type {\n",
       "        vertical-align: middle;\n",
       "    }\n",
       "\n",
       "    .dataframe tbody tr th {\n",
       "        vertical-align: top;\n",
       "    }\n",
       "\n",
       "    .dataframe thead th {\n",
       "        text-align: right;\n",
       "    }\n",
       "</style>\n",
       "<table border=\"1\" class=\"dataframe\">\n",
       "  <thead>\n",
       "    <tr style=\"text-align: right;\">\n",
       "      <th></th>\n",
       "      <th>Cement</th>\n",
       "      <th>Blast Furnace Slag</th>\n",
       "      <th>Fly Ash</th>\n",
       "      <th>Water</th>\n",
       "      <th>Superplasticizer</th>\n",
       "      <th>Coarse Aggregate</th>\n",
       "      <th>Fine Aggregate</th>\n",
       "      <th>Age</th>\n",
       "      <th>Strength</th>\n",
       "    </tr>\n",
       "  </thead>\n",
       "  <tbody>\n",
       "    <tr>\n",
       "      <th>count</th>\n",
       "      <td>1030.000000</td>\n",
       "      <td>1030.000000</td>\n",
       "      <td>1030.000000</td>\n",
       "      <td>1030.000000</td>\n",
       "      <td>1030.000000</td>\n",
       "      <td>1030.000000</td>\n",
       "      <td>1030.000000</td>\n",
       "      <td>1030.000000</td>\n",
       "      <td>1030.000000</td>\n",
       "    </tr>\n",
       "    <tr>\n",
       "      <th>mean</th>\n",
       "      <td>281.167864</td>\n",
       "      <td>73.895825</td>\n",
       "      <td>54.188350</td>\n",
       "      <td>181.567282</td>\n",
       "      <td>6.204660</td>\n",
       "      <td>972.918932</td>\n",
       "      <td>773.580485</td>\n",
       "      <td>45.662136</td>\n",
       "      <td>35.817961</td>\n",
       "    </tr>\n",
       "    <tr>\n",
       "      <th>std</th>\n",
       "      <td>104.506364</td>\n",
       "      <td>86.279342</td>\n",
       "      <td>63.997004</td>\n",
       "      <td>21.354219</td>\n",
       "      <td>5.973841</td>\n",
       "      <td>77.753954</td>\n",
       "      <td>80.175980</td>\n",
       "      <td>63.169912</td>\n",
       "      <td>16.705742</td>\n",
       "    </tr>\n",
       "    <tr>\n",
       "      <th>min</th>\n",
       "      <td>102.000000</td>\n",
       "      <td>0.000000</td>\n",
       "      <td>0.000000</td>\n",
       "      <td>121.800000</td>\n",
       "      <td>0.000000</td>\n",
       "      <td>801.000000</td>\n",
       "      <td>594.000000</td>\n",
       "      <td>1.000000</td>\n",
       "      <td>2.330000</td>\n",
       "    </tr>\n",
       "    <tr>\n",
       "      <th>25%</th>\n",
       "      <td>192.375000</td>\n",
       "      <td>0.000000</td>\n",
       "      <td>0.000000</td>\n",
       "      <td>164.900000</td>\n",
       "      <td>0.000000</td>\n",
       "      <td>932.000000</td>\n",
       "      <td>730.950000</td>\n",
       "      <td>7.000000</td>\n",
       "      <td>23.710000</td>\n",
       "    </tr>\n",
       "    <tr>\n",
       "      <th>50%</th>\n",
       "      <td>272.900000</td>\n",
       "      <td>22.000000</td>\n",
       "      <td>0.000000</td>\n",
       "      <td>185.000000</td>\n",
       "      <td>6.400000</td>\n",
       "      <td>968.000000</td>\n",
       "      <td>779.500000</td>\n",
       "      <td>28.000000</td>\n",
       "      <td>34.445000</td>\n",
       "    </tr>\n",
       "    <tr>\n",
       "      <th>75%</th>\n",
       "      <td>350.000000</td>\n",
       "      <td>142.950000</td>\n",
       "      <td>118.300000</td>\n",
       "      <td>192.000000</td>\n",
       "      <td>10.200000</td>\n",
       "      <td>1029.400000</td>\n",
       "      <td>824.000000</td>\n",
       "      <td>56.000000</td>\n",
       "      <td>46.135000</td>\n",
       "    </tr>\n",
       "    <tr>\n",
       "      <th>max</th>\n",
       "      <td>540.000000</td>\n",
       "      <td>359.400000</td>\n",
       "      <td>200.100000</td>\n",
       "      <td>247.000000</td>\n",
       "      <td>32.200000</td>\n",
       "      <td>1145.000000</td>\n",
       "      <td>992.600000</td>\n",
       "      <td>365.000000</td>\n",
       "      <td>82.600000</td>\n",
       "    </tr>\n",
       "  </tbody>\n",
       "</table>\n",
       "</div>"
      ],
      "text/plain": [
       "            Cement  Blast Furnace Slag      Fly Ash        Water  \\\n",
       "count  1030.000000         1030.000000  1030.000000  1030.000000   \n",
       "mean    281.167864           73.895825    54.188350   181.567282   \n",
       "std     104.506364           86.279342    63.997004    21.354219   \n",
       "min     102.000000            0.000000     0.000000   121.800000   \n",
       "25%     192.375000            0.000000     0.000000   164.900000   \n",
       "50%     272.900000           22.000000     0.000000   185.000000   \n",
       "75%     350.000000          142.950000   118.300000   192.000000   \n",
       "max     540.000000          359.400000   200.100000   247.000000   \n",
       "\n",
       "       Superplasticizer  Coarse Aggregate  Fine Aggregate          Age  \\\n",
       "count       1030.000000       1030.000000     1030.000000  1030.000000   \n",
       "mean           6.204660        972.918932      773.580485    45.662136   \n",
       "std            5.973841         77.753954       80.175980    63.169912   \n",
       "min            0.000000        801.000000      594.000000     1.000000   \n",
       "25%            0.000000        932.000000      730.950000     7.000000   \n",
       "50%            6.400000        968.000000      779.500000    28.000000   \n",
       "75%           10.200000       1029.400000      824.000000    56.000000   \n",
       "max           32.200000       1145.000000      992.600000   365.000000   \n",
       "\n",
       "          Strength  \n",
       "count  1030.000000  \n",
       "mean     35.817961  \n",
       "std      16.705742  \n",
       "min       2.330000  \n",
       "25%      23.710000  \n",
       "50%      34.445000  \n",
       "75%      46.135000  \n",
       "max      82.600000  "
      ]
     },
     "execution_count": 18,
     "metadata": {},
     "output_type": "execute_result"
    }
   ],
   "source": [
    "#Checking th whole data using describe function\n",
    "df.describe()"
   ]
  },
  {
   "cell_type": "code",
   "execution_count": 19,
   "id": "66234e04",
   "metadata": {},
   "outputs": [
    {
     "data": {
      "text/plain": [
       "Cement                0\n",
       "Blast Furnace Slag    0\n",
       "Fly Ash               0\n",
       "Water                 0\n",
       "Superplasticizer      0\n",
       "Coarse Aggregate      0\n",
       "Fine Aggregate        0\n",
       "Age                   0\n",
       "Strength              0\n",
       "dtype: int64"
      ]
     },
     "execution_count": 19,
     "metadata": {},
     "output_type": "execute_result"
    }
   ],
   "source": [
    "# Observing that missing values are available or not\n",
    "df.isnull().sum()"
   ]
  },
  {
   "cell_type": "code",
   "execution_count": 20,
   "id": "ce3bc0da",
   "metadata": {},
   "outputs": [],
   "source": [
    "##Split data into X and y\n",
    "df_col=df.columns\n",
    "X=df[df_col[df_col!=\"Strength\"]]\n",
    "y=df[\"Strength\"]"
   ]
  },
  {
   "cell_type": "code",
   "execution_count": 21,
   "id": "a859eb9a",
   "metadata": {},
   "outputs": [
    {
     "data": {
      "text/html": [
       "<div>\n",
       "<style scoped>\n",
       "    .dataframe tbody tr th:only-of-type {\n",
       "        vertical-align: middle;\n",
       "    }\n",
       "\n",
       "    .dataframe tbody tr th {\n",
       "        vertical-align: top;\n",
       "    }\n",
       "\n",
       "    .dataframe thead th {\n",
       "        text-align: right;\n",
       "    }\n",
       "</style>\n",
       "<table border=\"1\" class=\"dataframe\">\n",
       "  <thead>\n",
       "    <tr style=\"text-align: right;\">\n",
       "      <th></th>\n",
       "      <th>Cement</th>\n",
       "      <th>Blast Furnace Slag</th>\n",
       "      <th>Fly Ash</th>\n",
       "      <th>Water</th>\n",
       "      <th>Superplasticizer</th>\n",
       "      <th>Coarse Aggregate</th>\n",
       "      <th>Fine Aggregate</th>\n",
       "      <th>Age</th>\n",
       "    </tr>\n",
       "  </thead>\n",
       "  <tbody>\n",
       "    <tr>\n",
       "      <th>1025</th>\n",
       "      <td>276.4</td>\n",
       "      <td>116.0</td>\n",
       "      <td>90.3</td>\n",
       "      <td>179.6</td>\n",
       "      <td>8.9</td>\n",
       "      <td>870.1</td>\n",
       "      <td>768.3</td>\n",
       "      <td>28</td>\n",
       "    </tr>\n",
       "    <tr>\n",
       "      <th>1026</th>\n",
       "      <td>322.2</td>\n",
       "      <td>0.0</td>\n",
       "      <td>115.6</td>\n",
       "      <td>196.0</td>\n",
       "      <td>10.4</td>\n",
       "      <td>817.9</td>\n",
       "      <td>813.4</td>\n",
       "      <td>28</td>\n",
       "    </tr>\n",
       "    <tr>\n",
       "      <th>1027</th>\n",
       "      <td>148.5</td>\n",
       "      <td>139.4</td>\n",
       "      <td>108.6</td>\n",
       "      <td>192.7</td>\n",
       "      <td>6.1</td>\n",
       "      <td>892.4</td>\n",
       "      <td>780.0</td>\n",
       "      <td>28</td>\n",
       "    </tr>\n",
       "    <tr>\n",
       "      <th>1028</th>\n",
       "      <td>159.1</td>\n",
       "      <td>186.7</td>\n",
       "      <td>0.0</td>\n",
       "      <td>175.6</td>\n",
       "      <td>11.3</td>\n",
       "      <td>989.6</td>\n",
       "      <td>788.9</td>\n",
       "      <td>28</td>\n",
       "    </tr>\n",
       "    <tr>\n",
       "      <th>1029</th>\n",
       "      <td>260.9</td>\n",
       "      <td>100.5</td>\n",
       "      <td>78.3</td>\n",
       "      <td>200.6</td>\n",
       "      <td>8.6</td>\n",
       "      <td>864.5</td>\n",
       "      <td>761.5</td>\n",
       "      <td>28</td>\n",
       "    </tr>\n",
       "  </tbody>\n",
       "</table>\n",
       "</div>"
      ],
      "text/plain": [
       "      Cement  Blast Furnace Slag  Fly Ash  Water  Superplasticizer  \\\n",
       "1025   276.4               116.0     90.3  179.6               8.9   \n",
       "1026   322.2                 0.0    115.6  196.0              10.4   \n",
       "1027   148.5               139.4    108.6  192.7               6.1   \n",
       "1028   159.1               186.7      0.0  175.6              11.3   \n",
       "1029   260.9               100.5     78.3  200.6               8.6   \n",
       "\n",
       "      Coarse Aggregate  Fine Aggregate  Age  \n",
       "1025             870.1           768.3   28  \n",
       "1026             817.9           813.4   28  \n",
       "1027             892.4           780.0   28  \n",
       "1028             989.6           788.9   28  \n",
       "1029             864.5           761.5   28  "
      ]
     },
     "execution_count": 21,
     "metadata": {},
     "output_type": "execute_result"
    }
   ],
   "source": [
    "X.tail()"
   ]
  },
  {
   "cell_type": "code",
   "execution_count": 22,
   "id": "9ef60f7e",
   "metadata": {},
   "outputs": [
    {
     "data": {
      "text/plain": [
       "1025    44.28\n",
       "1026    31.18\n",
       "1027    23.70\n",
       "1028    32.77\n",
       "1029    32.40\n",
       "Name: Strength, dtype: float64"
      ]
     },
     "execution_count": 22,
     "metadata": {},
     "output_type": "execute_result"
    }
   ],
   "source": [
    "y.tail()"
   ]
  },
  {
   "cell_type": "code",
   "execution_count": 209,
   "id": "2e27037e",
   "metadata": {},
   "outputs": [],
   "source": [
    "X.tail()\n",
    "mean_X = np.mean(X, axis=0)  # Calculate mean for each feature in X\n",
    "std_X = np.std(X, axis=0)    # Calculate standard deviation for each feature in X\n",
    "\n",
    "mean_y = np.mean(y)          # Calculate mean for y\n",
    "std_y = np.std(y)            # Calculate standard deviation for y\n",
    "\n",
    "# Apply Z-Score Standardization to X and y\n",
    "X = (X - mean_X) / std_X\n",
    "y = (y - mean_y) / std_y"
   ]
  },
  {
   "cell_type": "code",
   "execution_count": 210,
   "id": "4063c731",
   "metadata": {},
   "outputs": [],
   "source": [
    "## Split data into test and t rain set\n",
    "X_train,X_test,y_train,y_test = train_test_split(X,y,test_size=0.3,random_state=None)"
   ]
  },
  {
   "cell_type": "code",
   "execution_count": 211,
   "id": "1ef7f06a",
   "metadata": {},
   "outputs": [
    {
     "data": {
      "text/plain": [
       "(309, 8)"
      ]
     },
     "execution_count": 211,
     "metadata": {},
     "output_type": "execute_result"
    }
   ],
   "source": [
    "X_test.shape"
   ]
  },
  {
   "cell_type": "code",
   "execution_count": 212,
   "id": "f83aac7d",
   "metadata": {},
   "outputs": [
    {
     "data": {
      "text/plain": [
       "(721,)"
      ]
     },
     "execution_count": 212,
     "metadata": {},
     "output_type": "execute_result"
    }
   ],
   "source": [
    "y_train.shape"
   ]
  },
  {
   "cell_type": "code",
   "execution_count": null,
   "id": "35891ffe",
   "metadata": {},
   "outputs": [],
   "source": [
    "\n"
   ]
  },
  {
   "cell_type": "code",
   "execution_count": null,
   "id": "2ed2dead",
   "metadata": {},
   "outputs": [],
   "source": []
  },
  {
   "cell_type": "code",
   "execution_count": 213,
   "id": "54664136",
   "metadata": {},
   "outputs": [],
   "source": [
    "n_col=X_norm.shape[1]"
   ]
  },
  {
   "cell_type": "code",
   "execution_count": 214,
   "id": "8b290f4c",
   "metadata": {},
   "outputs": [
    {
     "data": {
      "text/plain": [
       "8"
      ]
     },
     "execution_count": 214,
     "metadata": {},
     "output_type": "execute_result"
    }
   ],
   "source": [
    "n_col\n"
   ]
  },
  {
   "cell_type": "code",
   "execution_count": 215,
   "id": "bdc00652",
   "metadata": {},
   "outputs": [],
   "source": [
    "##Model creation function\n",
    "def regression_model():\n",
    "    # create model\n",
    "    model = Sequential()\n",
    "    model.add(Dense(50, activation='relu', input_shape=(n_col,)))\n",
    "    model.add(Dense(50, activation='relu'))\n",
    "    model.add(Dense(1))\n",
    "    \n",
    "    model.compile(optimizer='adam',loss='mean_squared_error',metrics = ['mse', 'mae'])\n",
    "    return model\n",
    "              "
   ]
  },
  {
   "cell_type": "code",
   "execution_count": 216,
   "id": "d706213a",
   "metadata": {},
   "outputs": [],
   "source": [
    "# build the model\n",
    "model = regression_model()"
   ]
  },
  {
   "cell_type": "code",
   "execution_count": 217,
   "id": "4c64e0bb",
   "metadata": {},
   "outputs": [
    {
     "name": "stdout",
     "output_type": "stream",
     "text": [
      "Epoch 1/50\n",
      "16/16 - 2s - loss: 1.0375 - mse: 1.0375 - mae: 0.8104 - val_loss: 0.8819 - val_mse: 0.8819 - val_mae: 0.7540 - 2s/epoch - 116ms/step\n",
      "Epoch 2/50\n",
      "16/16 - 0s - loss: 0.7137 - mse: 0.7137 - mae: 0.6807 - val_loss: 0.6482 - val_mse: 0.6482 - val_mae: 0.6374 - 103ms/epoch - 6ms/step\n",
      "Epoch 3/50\n",
      "16/16 - 0s - loss: 0.5512 - mse: 0.5512 - mae: 0.5971 - val_loss: 0.4891 - val_mse: 0.4891 - val_mae: 0.5522 - 102ms/epoch - 6ms/step\n",
      "Epoch 4/50\n",
      "16/16 - 0s - loss: 0.4387 - mse: 0.4387 - mae: 0.5289 - val_loss: 0.4127 - val_mse: 0.4127 - val_mae: 0.5058 - 102ms/epoch - 6ms/step\n",
      "Epoch 5/50\n",
      "16/16 - 0s - loss: 0.3821 - mse: 0.3821 - mae: 0.4894 - val_loss: 0.3750 - val_mse: 0.3750 - val_mae: 0.4802 - 101ms/epoch - 6ms/step\n",
      "Epoch 6/50\n",
      "16/16 - 0s - loss: 0.3374 - mse: 0.3374 - mae: 0.4596 - val_loss: 0.3432 - val_mse: 0.3432 - val_mae: 0.4580 - 93ms/epoch - 6ms/step\n",
      "Epoch 7/50\n",
      "16/16 - 0s - loss: 0.3064 - mse: 0.3064 - mae: 0.4369 - val_loss: 0.3296 - val_mse: 0.3296 - val_mae: 0.4447 - 104ms/epoch - 6ms/step\n",
      "Epoch 8/50\n",
      "16/16 - 0s - loss: 0.2805 - mse: 0.2805 - mae: 0.4188 - val_loss: 0.3133 - val_mse: 0.3133 - val_mae: 0.4314 - 103ms/epoch - 6ms/step\n",
      "Epoch 9/50\n",
      "16/16 - 0s - loss: 0.2500 - mse: 0.2500 - mae: 0.3943 - val_loss: 0.2897 - val_mse: 0.2897 - val_mae: 0.4105 - 109ms/epoch - 7ms/step\n",
      "Epoch 10/50\n",
      "16/16 - 0s - loss: 0.2257 - mse: 0.2257 - mae: 0.3711 - val_loss: 0.2801 - val_mse: 0.2801 - val_mae: 0.3998 - 110ms/epoch - 7ms/step\n",
      "Epoch 11/50\n",
      "16/16 - 0s - loss: 0.2091 - mse: 0.2091 - mae: 0.3593 - val_loss: 0.2648 - val_mse: 0.2648 - val_mae: 0.3863 - 112ms/epoch - 7ms/step\n",
      "Epoch 12/50\n",
      "16/16 - 0s - loss: 0.1974 - mse: 0.1974 - mae: 0.3450 - val_loss: 0.2503 - val_mse: 0.2503 - val_mae: 0.3751 - 111ms/epoch - 7ms/step\n",
      "Epoch 13/50\n",
      "16/16 - 0s - loss: 0.1847 - mse: 0.1847 - mae: 0.3320 - val_loss: 0.2431 - val_mse: 0.2431 - val_mae: 0.3662 - 111ms/epoch - 7ms/step\n",
      "Epoch 14/50\n",
      "16/16 - 0s - loss: 0.1709 - mse: 0.1709 - mae: 0.3229 - val_loss: 0.2342 - val_mse: 0.2342 - val_mae: 0.3591 - 121ms/epoch - 8ms/step\n",
      "Epoch 15/50\n",
      "16/16 - 0s - loss: 0.1649 - mse: 0.1649 - mae: 0.3134 - val_loss: 0.2254 - val_mse: 0.2254 - val_mae: 0.3490 - 115ms/epoch - 7ms/step\n",
      "Epoch 16/50\n",
      "16/16 - 0s - loss: 0.1545 - mse: 0.1545 - mae: 0.3058 - val_loss: 0.2183 - val_mse: 0.2183 - val_mae: 0.3456 - 104ms/epoch - 6ms/step\n",
      "Epoch 17/50\n",
      "16/16 - 0s - loss: 0.1478 - mse: 0.1478 - mae: 0.2998 - val_loss: 0.2146 - val_mse: 0.2146 - val_mae: 0.3385 - 122ms/epoch - 8ms/step\n",
      "Epoch 18/50\n",
      "16/16 - 0s - loss: 0.1472 - mse: 0.1472 - mae: 0.3001 - val_loss: 0.2141 - val_mse: 0.2141 - val_mae: 0.3464 - 126ms/epoch - 8ms/step\n",
      "Epoch 19/50\n",
      "16/16 - 0s - loss: 0.1442 - mse: 0.1442 - mae: 0.2945 - val_loss: 0.2072 - val_mse: 0.2072 - val_mae: 0.3327 - 118ms/epoch - 7ms/step\n",
      "Epoch 20/50\n",
      "16/16 - 0s - loss: 0.1331 - mse: 0.1331 - mae: 0.2848 - val_loss: 0.1986 - val_mse: 0.1986 - val_mae: 0.3287 - 107ms/epoch - 7ms/step\n",
      "Epoch 21/50\n",
      "16/16 - 0s - loss: 0.1290 - mse: 0.1290 - mae: 0.2787 - val_loss: 0.2005 - val_mse: 0.2005 - val_mae: 0.3272 - 114ms/epoch - 7ms/step\n",
      "Epoch 22/50\n",
      "16/16 - 0s - loss: 0.1250 - mse: 0.1250 - mae: 0.2729 - val_loss: 0.1903 - val_mse: 0.1903 - val_mae: 0.3217 - 118ms/epoch - 7ms/step\n",
      "Epoch 23/50\n",
      "16/16 - 0s - loss: 0.1207 - mse: 0.1207 - mae: 0.2725 - val_loss: 0.1878 - val_mse: 0.1878 - val_mae: 0.3156 - 108ms/epoch - 7ms/step\n",
      "Epoch 24/50\n",
      "16/16 - 0s - loss: 0.1161 - mse: 0.1161 - mae: 0.2620 - val_loss: 0.1842 - val_mse: 0.1842 - val_mae: 0.3171 - 114ms/epoch - 7ms/step\n",
      "Epoch 25/50\n",
      "16/16 - 0s - loss: 0.1147 - mse: 0.1147 - mae: 0.2614 - val_loss: 0.1800 - val_mse: 0.1800 - val_mae: 0.3129 - 118ms/epoch - 7ms/step\n",
      "Epoch 26/50\n",
      "16/16 - 0s - loss: 0.1081 - mse: 0.1081 - mae: 0.2542 - val_loss: 0.1764 - val_mse: 0.1764 - val_mae: 0.3055 - 119ms/epoch - 7ms/step\n",
      "Epoch 27/50\n",
      "16/16 - 0s - loss: 0.1057 - mse: 0.1057 - mae: 0.2509 - val_loss: 0.1750 - val_mse: 0.1750 - val_mae: 0.3064 - 122ms/epoch - 8ms/step\n",
      "Epoch 28/50\n",
      "16/16 - 0s - loss: 0.1025 - mse: 0.1025 - mae: 0.2479 - val_loss: 0.1697 - val_mse: 0.1697 - val_mae: 0.3041 - 102ms/epoch - 6ms/step\n",
      "Epoch 29/50\n",
      "16/16 - 0s - loss: 0.1020 - mse: 0.1020 - mae: 0.2451 - val_loss: 0.1686 - val_mse: 0.1686 - val_mae: 0.3000 - 124ms/epoch - 8ms/step\n",
      "Epoch 30/50\n",
      "16/16 - 0s - loss: 0.0975 - mse: 0.0975 - mae: 0.2400 - val_loss: 0.1653 - val_mse: 0.1653 - val_mae: 0.2965 - 124ms/epoch - 8ms/step\n",
      "Epoch 31/50\n",
      "16/16 - 0s - loss: 0.0969 - mse: 0.0969 - mae: 0.2388 - val_loss: 0.1621 - val_mse: 0.1621 - val_mae: 0.2923 - 112ms/epoch - 7ms/step\n",
      "Epoch 32/50\n",
      "16/16 - 0s - loss: 0.0919 - mse: 0.0919 - mae: 0.2316 - val_loss: 0.1595 - val_mse: 0.1595 - val_mae: 0.2877 - 108ms/epoch - 7ms/step\n",
      "Epoch 33/50\n",
      "16/16 - 0s - loss: 0.0916 - mse: 0.0916 - mae: 0.2351 - val_loss: 0.1605 - val_mse: 0.1605 - val_mae: 0.2906 - 120ms/epoch - 8ms/step\n",
      "Epoch 34/50\n",
      "16/16 - 0s - loss: 0.0887 - mse: 0.0887 - mae: 0.2273 - val_loss: 0.1555 - val_mse: 0.1555 - val_mae: 0.2851 - 123ms/epoch - 8ms/step\n",
      "Epoch 35/50\n",
      "16/16 - 0s - loss: 0.0867 - mse: 0.0867 - mae: 0.2278 - val_loss: 0.1570 - val_mse: 0.1570 - val_mae: 0.2860 - 115ms/epoch - 7ms/step\n",
      "Epoch 36/50\n",
      "16/16 - 0s - loss: 0.0834 - mse: 0.0834 - mae: 0.2179 - val_loss: 0.1536 - val_mse: 0.1536 - val_mae: 0.2816 - 110ms/epoch - 7ms/step\n",
      "Epoch 37/50\n",
      "16/16 - 0s - loss: 0.0819 - mse: 0.0819 - mae: 0.2166 - val_loss: 0.1516 - val_mse: 0.1516 - val_mae: 0.2770 - 110ms/epoch - 7ms/step\n",
      "Epoch 38/50\n",
      "16/16 - 0s - loss: 0.0799 - mse: 0.0799 - mae: 0.2168 - val_loss: 0.1522 - val_mse: 0.1522 - val_mae: 0.2800 - 110ms/epoch - 7ms/step\n",
      "Epoch 39/50\n",
      "16/16 - 0s - loss: 0.0783 - mse: 0.0783 - mae: 0.2139 - val_loss: 0.1493 - val_mse: 0.1493 - val_mae: 0.2767 - 100ms/epoch - 6ms/step\n",
      "Epoch 40/50\n",
      "16/16 - 0s - loss: 0.0765 - mse: 0.0765 - mae: 0.2111 - val_loss: 0.1472 - val_mse: 0.1472 - val_mae: 0.2748 - 106ms/epoch - 7ms/step\n",
      "Epoch 41/50\n",
      "16/16 - 0s - loss: 0.0779 - mse: 0.0779 - mae: 0.2118 - val_loss: 0.1466 - val_mse: 0.1466 - val_mae: 0.2703 - 108ms/epoch - 7ms/step\n",
      "Epoch 42/50\n",
      "16/16 - 0s - loss: 0.0747 - mse: 0.0747 - mae: 0.2098 - val_loss: 0.1464 - val_mse: 0.1464 - val_mae: 0.2760 - 108ms/epoch - 7ms/step\n",
      "Epoch 43/50\n",
      "16/16 - 0s - loss: 0.0740 - mse: 0.0740 - mae: 0.2080 - val_loss: 0.1498 - val_mse: 0.1498 - val_mae: 0.2783 - 119ms/epoch - 7ms/step\n",
      "Epoch 44/50\n",
      "16/16 - 0s - loss: 0.0731 - mse: 0.0731 - mae: 0.2069 - val_loss: 0.1455 - val_mse: 0.1455 - val_mae: 0.2766 - 117ms/epoch - 7ms/step\n",
      "Epoch 45/50\n",
      "16/16 - 0s - loss: 0.0699 - mse: 0.0699 - mae: 0.2004 - val_loss: 0.1415 - val_mse: 0.1415 - val_mae: 0.2696 - 101ms/epoch - 6ms/step\n",
      "Epoch 46/50\n",
      "16/16 - 0s - loss: 0.0676 - mse: 0.0676 - mae: 0.1986 - val_loss: 0.1435 - val_mse: 0.1435 - val_mae: 0.2698 - 106ms/epoch - 7ms/step\n",
      "Epoch 47/50\n",
      "16/16 - 0s - loss: 0.0670 - mse: 0.0670 - mae: 0.1967 - val_loss: 0.1403 - val_mse: 0.1403 - val_mae: 0.2692 - 104ms/epoch - 7ms/step\n",
      "Epoch 48/50\n",
      "16/16 - 0s - loss: 0.0662 - mse: 0.0662 - mae: 0.1954 - val_loss: 0.1389 - val_mse: 0.1389 - val_mae: 0.2656 - 115ms/epoch - 7ms/step\n",
      "Epoch 49/50\n",
      "16/16 - 0s - loss: 0.0668 - mse: 0.0668 - mae: 0.1975 - val_loss: 0.1390 - val_mse: 0.1390 - val_mae: 0.2656 - 115ms/epoch - 7ms/step\n",
      "Epoch 50/50\n",
      "16/16 - 0s - loss: 0.0632 - mse: 0.0632 - mae: 0.1896 - val_loss: 0.1370 - val_mse: 0.1370 - val_mae: 0.2660 - 110ms/epoch - 7ms/step\n"
     ]
    }
   ],
   "source": [
    "history=model.fit(X_train,y_train,epochs=50,verbose=2,validation_split=0.3)"
   ]
  },
  {
   "cell_type": "code",
   "execution_count": 218,
   "id": "74d94153",
   "metadata": {},
   "outputs": [
    {
     "data": {
      "text/plain": [
       "<matplotlib.legend.Legend at 0x22f895d7190>"
      ]
     },
     "execution_count": 218,
     "metadata": {},
     "output_type": "execute_result"
    },
    {
     "data": {
      "image/png": "[encoded data removed]",
      "text/plain": [
       "<Figure size 640x480 with 1 Axes>"
      ]
     },
     "metadata": {},
     "output_type": "display_data"
    }
   ],
   "source": [
    "#Plot mae and val_mae in the graph\n",
    "import matplotlib.pyplot as plt\n",
    "plt.plot(history.history['mae'], label='mae')\n",
    "plt.plot(history.history['val_mae'], label='val_mae')\n",
    "\n",
    "plt.legend()"
   ]
  },
  {
   "cell_type": "code",
   "execution_count": 219,
   "id": "69bbeecf",
   "metadata": {},
   "outputs": [
    {
     "name": "stdout",
     "output_type": "stream",
     "text": [
      "Mean Squared Error :  0.27563953399658203\n",
      "Mean Absolute Error :  0.12971867620944977\n"
     ]
    }
   ],
   "source": [
    "X_test = np.array(X_test)\n",
    "y_test = np.array(y_test)\n",
    "scores = model.evaluate(X_test, y_test, verbose = 0)\n",
    "\n",
    "print('Mean Squared Error : ', scores[2])\n",
    "print('Mean Absolute Error : ', scores[1])\n"
   ]
  },
  {
   "cell_type": "code",
   "execution_count": 220,
   "id": "f2b9d556",
   "metadata": {},
   "outputs": [
    {
     "name": "stdout",
     "output_type": "stream",
     "text": [
      "10/10 [==============================] - 0s 2ms/step\n"
     ]
    }
   ],
   "source": [
    "y_pred=model.predict(X_test)"
   ]
  },
  {
   "cell_type": "code",
   "execution_count": 221,
   "id": "838ab0a1",
   "metadata": {},
   "outputs": [
    {
     "name": "stdout",
     "output_type": "stream",
     "text": [
      "r2 score:  0.8792268426750671\n"
     ]
    }
   ],
   "source": [
    "##As you can model r2 score increase from about 78 to almost 88 when we us normalization factor\n",
    "from sklearn.metrics import r2_score\n",
    "\n",
    "print('r2 score: ', r2_score(y_test, y_pred))"
   ]
  },
  {
   "cell_type": "code",
   "execution_count": 225,
   "id": "4d50dc4c",
   "metadata": {},
   "outputs": [
    {
     "name": "stdout",
     "output_type": "stream",
     "text": [
      "10/10 [==============================] - 0s 2ms/step\n"
     ]
    },
    {
     "data": {
      "text/plain": [
       "[]"
      ]
     },
     "execution_count": 225,
     "metadata": {},
     "output_type": "execute_result"
    },
    {
     "data": {
      "image/png": "[encoded data removed]",
      "text/plain": [
       "<Figure size 640x480 with 1 Axes>"
      ]
     },
     "metadata": {},
     "output_type": "display_data"
    }
   ],
   "source": [
    "y_pred = model.predict(X_test).flatten()\n",
    "\n",
    "a = plt.axes(aspect='equal')\n",
    "plt.scatter(y_test, y_pred)\n",
    "plt.xlabel('True values')\n",
    "plt.ylabel('Predicted values')\n",
    "plt.xlim([0, 5])\n",
    "plt.ylim([0, 5])\n",
    "plt.plot([0, 5], [0, 5])\n",
    "plt.plot()\n"
   ]
  },
  {
   "cell_type": "code",
   "execution_count": 226,
   "id": "ca7ec9d3",
   "metadata": {},
   "outputs": [],
   "source": [
    "y_test=list(y_test)\n",
    "y_pred=list(y_pred)\n",
    "\n"
   ]
  },
  {
   "cell_type": "code",
   "execution_count": 227,
   "id": "cececf06",
   "metadata": {},
   "outputs": [],
   "source": [
    "def calculate_mse(y_test, y_pred):\n",
    "    # Create an empty list to store MSE values\n",
    "    MSE = []\n",
    "\n",
    "    # Iterate through the range of data points (first 50 in this case)\n",
    "    for i in range(len(y_test[:50])):\n",
    "        x = np.power((y_test[i] - y_pred[i]), 2)\n",
    "        MSE.append(x)\n",
    "\n",
    "    # Return the list of MSE values\n",
    "    return MSE"
   ]
  },
  {
   "cell_type": "code",
   "execution_count": 228,
   "id": "588bc4fe",
   "metadata": {},
   "outputs": [],
   "source": [
    "mse_values = calculate_mse(y_test, y_pred)\n"
   ]
  },
  {
   "cell_type": "code",
   "execution_count": 231,
   "id": "3a440a8c",
   "metadata": {},
   "outputs": [
    {
     "name": "stdout",
     "output_type": "stream",
     "text": [
      "56.90396856752447\n"
     ]
    }
   ],
   "source": [
    "Mean_mse=(1/len(mse_values))*np.sum(mse_values)\n",
    "print(Mean_msc)\n"
   ]
  },
  {
   "cell_type": "code",
   "execution_count": 232,
   "id": "01ac7b79",
   "metadata": {},
   "outputs": [
    {
     "name": "stdout",
     "output_type": "stream",
     "text": [
      "0.2429900830467341\n"
     ]
    }
   ],
   "source": [
    "StdDev_MSE = np.std(mse_values)\n",
    "print(StdDev_MSE)"
   ]
  },
  {
   "cell_type": "code",
   "execution_count": null,
   "id": "e2360a17",
   "metadata": {},
   "outputs": [],
   "source": []
  }
 ],
 "metadata": {
  "kernelspec": {
   "display_name": "Python 3 (ipykernel)",
   "language": "python",
   "name": "python3"
  },
  "language_info": {
   "codemirror_mode": {
    "name": "ipython",
    "version": 3
   },
   "file_extension": ".py",
   "mimetype": "text/x-python",
   "name": "python",
   "nbconvert_exporter": "python",
   "pygments_lexer": "ipython3",
   "version": "3.9.12"
  }
 },
 "nbformat": 4,
 "nbformat_minor": 5
}
